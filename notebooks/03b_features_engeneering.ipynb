{
 "cells": [
  {
   "cell_type": "code",
   "execution_count": 1,
   "metadata": {},
   "outputs": [],
   "source": [
    "# Consolidated imports\n",
    "import numpy as np\n",
    "import pandas as pd\n",
    "import geopandas as gpd\n",
    "import matplotlib.pyplot as plt\n",
    "\n",
    "from libpysal.weights import Queen, lag_spatial\n",
    "\n",
    "from esda.moran import Moran\n",
    "\n",
    "import statsmodels.api as sm\n",
    "import torch\n",
    "import torch.nn.functional as F\n",
    "from torch_geometric.nn import GCNConv\n",
    "from sklearn.preprocessing import StandardScaler\n",
    "from sklearn.linear_model import LassoCV, RidgeCV\n",
    "\n",
    "import warnings\n",
    "warnings.filterwarnings('ignore')\n",
    "\n",
    "%config InlineBackend.figure_format = 'retina'"
   ]
  },
  {
   "cell_type": "markdown",
   "metadata": {},
   "source": [
    "# Spatial Feature Engineering Pipeline\n",
    "This notebook demonstrates spatial feature engineering for San Francisco block groups. It loads cleaned data, computes a Queen weights graph, and evaluates four spatial feature types (coordinates, spatial lag, Moran eigenvectors, node2vec embeddings) in OLS regression, reporting fit and Moran's I of residuals for each."
   ]
  },
  {
   "cell_type": "markdown",
   "metadata": {},
   "source": [
    "## 1. Load Cleaned Dataset\n",
    "Load tabular and spatial data, merge into a GeoDataFrame, and clean missing/infinite values."
   ]
  },
  {
   "cell_type": "code",
   "execution_count": 2,
   "metadata": {},
   "outputs": [
    {
     "ename": "KeyError",
     "evalue": "\"None of ['BGFIPS10'] are in the columns\"",
     "output_type": "error",
     "traceback": [
      "\u001b[31m---------------------------------------------------------------------------\u001b[39m",
      "\u001b[31mKeyError\u001b[39m                                  Traceback (most recent call last)",
      "\u001b[32m/var/folders/dy/m471zxc92yg3d_nmckq9dd000000gn/T/ipykernel_59337/3735736099.py\u001b[39m in \u001b[36m?\u001b[39m\u001b[34m()\u001b[39m\n\u001b[32m      1\u001b[39m \u001b[38;5;66;03m# Load tabular and spatial data\u001b[39;00m\n\u001b[32m      2\u001b[39m data = pd.read_csv(\u001b[33m'data/incidents/InputDataset.csv'\u001b[39m, dtype={\u001b[33m'BGFIPS10'\u001b[39m: object}).set_index(\u001b[33m'BGFIPS10'\u001b[39m)\n\u001b[32m----> \u001b[39m\u001b[32m3\u001b[39m geo = gpd.read_parquet(\u001b[33m'data/incidents/SF_BlockGroups10_Cleaned.parquet'\u001b[39m).set_index(\u001b[33m'BGFIPS10'\u001b[39m)\n\u001b[32m      4\u001b[39m gdf = gpd.GeoDataFrame(data, geometry=geo.geometry)\n\u001b[32m      5\u001b[39m gdf = gdf.replace([np.inf, -np.inf], np.nan).dropna()\n",
      "\u001b[32m/Library/Frameworks/Python.framework/Versions/3.13/lib/python3.13/site-packages/pandas/core/frame.py\u001b[39m in \u001b[36m?\u001b[39m\u001b[34m(self, keys, drop, append, inplace, verify_integrity)\u001b[39m\n\u001b[32m   6125\u001b[39m                     \u001b[38;5;28;01mif\u001b[39;00m \u001b[38;5;28;01mnot\u001b[39;00m found:\n\u001b[32m   6126\u001b[39m                         missing.append(col)\n\u001b[32m   6127\u001b[39m \n\u001b[32m   6128\u001b[39m         \u001b[38;5;28;01mif\u001b[39;00m missing:\n\u001b[32m-> \u001b[39m\u001b[32m6129\u001b[39m             \u001b[38;5;28;01mraise\u001b[39;00m KeyError(f\"None of {missing} are in the columns\")\n\u001b[32m   6130\u001b[39m \n\u001b[32m   6131\u001b[39m         \u001b[38;5;28;01mif\u001b[39;00m inplace:\n\u001b[32m   6132\u001b[39m             frame = self\n",
      "\u001b[31mKeyError\u001b[39m: \"None of ['BGFIPS10'] are in the columns\""
     ]
    }
   ],
   "source": [
    "# Load tabular and spatial data\n",
    "data = pd.read_csv('data/incidents/InputDataset.csv', dtype={'BGFIPS10': object}).set_index('BGFIPS10')\n",
    "geo = gpd.read_parquet('data/incidents/SF_BlockGroups10_Cleaned.parquet').set_index('BGFIPS10')\n",
    "gdf = gpd.GeoDataFrame(data, geometry=geo.geometry)\n",
    "gdf = gdf.replace([np.inf, -np.inf], np.nan).dropna()"
   ]
  },
  {
   "cell_type": "markdown",
   "metadata": {},
   "source": [
    "## 2. Compute Queen Weights Graph\n",
    "Build a Queen contiguity weights object (row-standardized) for use throughout the notebook."
   ]
  },
  {
   "cell_type": "code",
   "execution_count": null,
   "metadata": {},
   "outputs": [],
   "source": [
    "# Compute Queen weights (row-standardized)\n",
    "queen = Queen.from_dataframe(gdf, ids=gdf.index, silence_warnings=True)\n",
    "queen.transform = \"R\""
   ]
  },
  {
   "cell_type": "markdown",
   "metadata": {},
   "source": [
    "## 3. Baseline OLS and Moran's I\n",
    "Fit a simple OLS model (no spatial features) and compute Moran's I of residuals."
   ]
  },
  {
   "cell_type": "code",
   "execution_count": null,
   "metadata": {},
   "outputs": [],
   "source": [
    "# Baseline OLS (no spatial features)\n",
    "YVar = 'DrunkP1k'\n",
    "XVars = ['pHHPov','BarPSqMi','RetailPSqMi','pMale','VacantHU']\n",
    "y = gdf[YVar]\n",
    "X = gdf[XVars]\n",
    "X = sm.add_constant(X)\n",
    "fit = sm.OLS(y, X).fit()\n",
    "print(fit.summary())"
   ]
  },
  {
   "cell_type": "code",
   "execution_count": null,
   "metadata": {},
   "outputs": [],
   "source": [
    "# Compute residuals and Moran's I\n",
    "residuals = y - fit.fittedvalues\n",
    "moran_baseline = Moran(residuals.values, queen)\n",
    "print('Baseline residual Moran I:', moran_baseline.I, moran_baseline.p_sim)"
   ]
  },
  {
   "cell_type": "code",
   "execution_count": null,
   "metadata": {},
   "outputs": [],
   "source": [
    "from splot.esda import plot_moran\n",
    "plot_moran(moran_baseline, zstandard=True)\n",
    "plt.title('Moran Plot of Residuals (Baseline OLS)')\n",
    "plt.show()"
   ]
  },
  {
   "cell_type": "markdown",
   "metadata": {},
   "source": [
    "## 4. Spatial Feature Engineering\n",
    "We now compute and add each spatial feature class, then run OLS and Moran's I diagnostics for each."
   ]
  },
  {
   "cell_type": "markdown",
   "metadata": {},
   "source": [
    "### 4a. Coordinates\n",
    "Add centroid coordinates as features and rerun OLS."
   ]
  },
  {
   "cell_type": "code",
   "execution_count": null,
   "metadata": {},
   "outputs": [],
   "source": [
    "gdf['centroid_x'] = gdf.geometry.centroid.x\n",
    "gdf['centroid_y'] = gdf.geometry.centroid.y\n",
    "X_coord = sm.add_constant(gdf[XVars + ['centroid_x', 'centroid_y']])\n",
    "fit_coord = sm.OLS(y, X_coord).fit()\n",
    "print(fit_coord.summary())"
   ]
  },
  {
   "cell_type": "code",
   "execution_count": null,
   "metadata": {},
   "outputs": [],
   "source": [
    "# Compute residuals and Moran's I for coordinates model\n",
    "res_coord = y - fit_coord.fittedvalues\n",
    "moran_coord = Moran(res_coord.values, queen)\n",
    "print('Residual Moran I (coords):', moran_coord.I, moran_coord.p_sim)"
   ]
  },
  {
   "cell_type": "code",
   "execution_count": null,
   "metadata": {},
   "outputs": [],
   "source": [
    "# Plot Moran's I of residuals for coordinates model\n",
    "from splot.esda import plot_moran\n",
    "plot_moran(Moran(res_coord.values, queen), zstandard=True)\n",
    "plt.title('Moran Plot of Residuals (Coordinates)')\n",
    "plt.show()"
   ]
  },
  {
   "cell_type": "markdown",
   "metadata": {},
   "source": [
    "### 4b. Spatial Lag of Explanatory Variables\n",
    "Add spatial lag features for each explanatory variable and rerun OLS."
   ]
  },
  {
   "cell_type": "code",
   "execution_count": null,
   "metadata": {},
   "outputs": [],
   "source": [
    "def spatial_lag(df, columns, w):\n",
    "    lagged = {}\n",
    "    for col in columns:\n",
    "        lagged[f\"{col}_lag\"] = lag_spatial(w, df[col].values)\n",
    "    return pd.DataFrame(lagged, index=df.index)\n",
    "\n",
    "# Compute spatial lags and add to gdf\n",
    "gdf_lags = spatial_lag(gdf, XVars, queen)\n",
    "for col in gdf_lags.columns:\n",
    "    gdf[col] = gdf_lags[col]\n",
    "X_lag = sm.add_constant(gdf[XVars + list(gdf_lags.columns)])\n",
    "fit_lag = sm.OLS(y, X_lag).fit()\n",
    "print(fit_lag.summary())"
   ]
  },
  {
   "cell_type": "code",
   "execution_count": null,
   "metadata": {},
   "outputs": [],
   "source": [
    "# Compute residuals and Moran's I for spatial lag model\n",
    "res_lag = y - fit_lag.fittedvalues\n",
    "moran_lag = Moran(res_lag.values, queen)\n",
    "print('Residual Moran I (spatial lag):', moran_lag.I, moran_lag.p_sim)"
   ]
  },
  {
   "cell_type": "code",
   "execution_count": null,
   "metadata": {},
   "outputs": [],
   "source": [
    "# Plot Moran's I of residuals for spatial lag model\n",
    "plot_moran(Moran(res_lag.values, queen), zstandard=True)\n",
    "plt.title('Moran Plot of Residuals (Spatial Lag)')\n",
    "plt.show()"
   ]
  },
  {
   "cell_type": "markdown",
   "metadata": {},
   "source": [
    "### 4c. Moran Eigenvector Spatial Filtering (MESF)\n",
    "Compute Moran eigenvectors and add top k as features, then rerun OLS."
   ]
  },
  {
   "cell_type": "code",
   "execution_count": null,
   "metadata": {},
   "outputs": [],
   "source": [
    "def compute_mesf(gdf, w, k=10):\n",
    "    idx = gdf.index.to_list()\n",
    "    n = len(idx)\n",
    "    A = w.full()[0]\n",
    "    I = np.eye(n)\n",
    "    one = np.ones((n, 1))\n",
    "    M = I - (one @ one.T) / n\n",
    "    S = 0.5 * (M @ A @ M + M @ A.T @ M)\n",
    "    evals, evecs = np.linalg.eigh(S)\n",
    "    order = np.argsort(evals)[::-1]\n",
    "    evals, evecs = evals[order], evecs[:, order]\n",
    "    mem_cols = [f'MEM_{i}' for i in range(k)]\n",
    "    mem_df = pd.DataFrame(evecs[:, :k], index=gdf.index, columns=mem_cols)\n",
    "    return mem_df\n",
    "\n",
    "# Compute MESF and add to gdf\n",
    "mem_df = compute_mesf(gdf, queen, k=50)\n",
    "for col in mem_df.columns:\n",
    "    gdf[col] = mem_df[col]\n",
    "X_mesf = sm.add_constant(gdf[XVars + list(mem_df.columns)])\n",
    "fit_mesf = sm.OLS(y, X_mesf).fit()\n",
    "print(fit_mesf.summary())"
   ]
  },
  {
   "cell_type": "code",
   "execution_count": null,
   "metadata": {},
   "outputs": [],
   "source": [
    "# Compute residuals and Moran's I for MESF model\n",
    "res_mesf = y - fit_mesf.fittedvalues\n",
    "moran_mesf = Moran(res_mesf.values, queen)\n",
    "print('Residual Moran I (MESF):', moran_mesf.I, moran_mesf.p_sim)"
   ]
  },
  {
   "cell_type": "code",
   "execution_count": null,
   "metadata": {},
   "outputs": [],
   "source": [
    "# Plot Moran's I of residuals for MESF model\n",
    "plot_moran(Moran(res_mesf.values, queen), zstandard=True)\n",
    "plt.title('Moran Plot of Residuals (MESF)')\n",
    "plt.show()"
   ]
  },
  {
   "cell_type": "markdown",
   "metadata": {},
   "source": [
    "### 4d. Graph Embeddings with PyTorch Geometric GCN\n",
    "In this section, we use a GCN autoencoder to generate spatial graph embeddings for each block group. We first define the model, then perform a grid search to select the optimal embedding size, and finally run the optimized model to generate features for OLS regression."
   ]
  },
  {
   "cell_type": "markdown",
   "metadata": {},
   "source": [
    "#### Step 1: Define the GCN Autoencoder Model\n",
    "We first define the GCN autoencoder architecture, which will be used to learn node embeddings from the Queen contiguity graph and explanatory variables."
   ]
  },
  {
   "cell_type": "code",
   "execution_count": null,
   "metadata": {},
   "outputs": [],
   "source": [
    "# Prepare node features: explanatory variables only\n",
    "scaler = StandardScaler()\n",
    "X_feats = scaler.fit_transform(gdf[XVars])\n",
    "x = torch.tensor(X_feats, dtype=torch.float32)\n",
    "\n",
    "# Graph structure from Queen weights\n",
    "G_nx = queen.to_networkx()\n",
    "edge_index = torch.tensor(list(G_nx.edges)).t().contiguous()\n",
    "\n",
    "# Define GCN autoencoder model\n",
    "class GCN_AE(torch.nn.Module):\n",
    "    def __init__(self, in_channels, hidden_channels):\n",
    "        super().__init__()\n",
    "        self.encoder = GCNConv(in_channels, hidden_channels)\n",
    "        self.decoder = torch.nn.Linear(hidden_channels, in_channels)\n",
    "    def forward(self, x, edge_index):\n",
    "        z = F.relu(self.encoder(x, edge_index))\n",
    "        x_hat = self.decoder(z)\n",
    "        return x_hat, z"
   ]
  },
  {
   "cell_type": "markdown",
   "metadata": {},
   "source": [
    "#### Step 2: Grid Search for Optimal Embedding Size\n",
    "We perform a grid search over several candidate embedding sizes (e.g., 4, 8, 16, 32, 48, 64, 128). For each size, we train the autoencoder, use the embeddings as features in OLS, and record model fit (AIC) and residual spatial autocorrelation (Moran's I and p-value)."
   ]
  },
  {
   "cell_type": "code",
   "execution_count": null,
   "metadata": {},
   "outputs": [],
   "source": [
    "# Grid search for best embedding size\n",
    "dims = [4, 8, 16, 32, 48, 64, 128]\n",
    "results = []\n",
    "\n",
    "for dim in dims:\n",
    "    # Train GCN autoencoder with 'dim' hidden units\n",
    "    model = GCN_AE(x.shape[1], dim)\n",
    "    optimizer = torch.optim.Adam(model.parameters(), lr=0.01)\n",
    "    for epoch in range(200):\n",
    "        model.train()\n",
    "        optimizer.zero_grad()\n",
    "        x_hat, z = model(x, edge_index)\n",
    "        loss = F.mse_loss(x_hat, x)\n",
    "        loss.backward()\n",
    "        optimizer.step()\n",
    "    embeddings = z.detach().numpy()\n",
    "    for i in range(embeddings.shape[1]):\n",
    "        gdf[f'gcn_ae_embed_{i}'] = embeddings[:, i]\n",
    "    X_gcn_ae = sm.add_constant(gdf[XVars + [f'gcn_ae_embed_{i}' for i in range(embeddings.shape[1])]])\n",
    "    fit_gcn_ae = sm.OLS(y, X_gcn_ae).fit()\n",
    "    print(f'Embedding dim {dim} OLS summary:')\n",
    "    print(fit_gcn_ae.summary())"
   ]
  },
  {
   "cell_type": "code",
   "execution_count": null,
   "metadata": {},
   "outputs": [],
   "source": [
    "res_gcn_ae = y - fit_gcn_ae.fittedvalues\n",
    "moran_I = Moran(res_gcn_ae.values, queen)\n",
    "aic = fit_gcn_ae.aic\n",
    "print(f'Embedding dim {dim}: AIC={aic:.2f}, Moran I={moran_I.I:.4f}, p-value={moran_I.p_sim:.4f}')"
   ]
  },
  {
   "cell_type": "code",
   "execution_count": null,
   "metadata": {},
   "outputs": [],
   "source": [
    "plot_moran(Moran(res_gcn_ae.values, queen), zstandard=True)\n",
    "plt.title(f'Moran Plot of Residuals (GCN AE dim {dim})')\n",
    "plt.show()"
   ]
  },
  {
   "cell_type": "markdown",
   "metadata": {},
   "source": [
    "#### Step 3: Run Final Optimized Model\n",
    "After selecting the best embedding size (lowest residual Moran's I and competitive AIC), we retrain the GCN autoencoder with this size and use the resulting embeddings as features in the final OLS regression."
   ]
  },
  {
   "cell_type": "code",
   "execution_count": null,
   "metadata": {},
   "outputs": [],
   "source": [
    "# Final model: set best_dim to the optimal embedding size found above (e.g., best_dim = 48)\n",
    "best_dim = 48  # Replace with your selected value from grid search\n",
    "model = GCN_AE(x.shape[1], best_dim)\n",
    "optimizer = torch.optim.Adam(model.parameters(), lr=0.01)\n",
    "for epoch in range(200):\n",
    "    model.train()\n",
    "    optimizer.zero_grad()\n",
    "    x_hat, z = model(x, edge_index)\n",
    "    loss = F.mse_loss(x_hat, x)\n",
    "    loss.backward()\n",
    "    optimizer.step()\n",
    "embeddings = z.detach().numpy()\n",
    "for i in range(embeddings.shape[1]):\n",
    "    gdf[f'gcn_ae_embed_{i}'] = embeddings[:, i]\n",
    "X_gcn_ae = sm.add_constant(gdf[XVars + [f'gcn_ae_embed_{i}' for i in range(embeddings.shape[1])]])\n",
    "fit_gcn_ae = sm.OLS(y, X_gcn_ae).fit()\n",
    "print(fit_gcn_ae.summary())"
   ]
  },
  {
   "cell_type": "code",
   "execution_count": null,
   "metadata": {},
   "outputs": [],
   "source": [
    "# Compute residuals and Moran's I for final GCN AE model\n",
    "res_gcn_ae = y - fit_gcn_ae.fittedvalues\n",
    "moran = Moran(res_gcn_ae.values, queen)\n",
    "print(f'Residual Moran I (final GCN AE): {moran.I:.4f}, p-value: {moran.p_sim:.4f}')"
   ]
  },
  {
   "cell_type": "code",
   "execution_count": null,
   "metadata": {},
   "outputs": [],
   "source": [
    "# Plot Moran's I of residuals for final GCN AE model\n",
    "plot_moran(Moran(res_gcn_ae.values, queen), zstandard=True)\n",
    "plt.title('Moran Plot of Residuals (Final GCN AE)')\n",
    "plt.show()"
   ]
  },
  {
   "cell_type": "markdown",
   "metadata": {},
   "source": [
    "# Model Comparison and Summary\n",
    "In this section, we compare all fitted models (including baseline, spatial features, and VIF-selected models) using AIC and Moran's I of residuals."
   ]
  },
  {
   "cell_type": "code",
   "execution_count": null,
   "metadata": {},
   "outputs": [],
   "source": [
    "# Summary of fit metrics and Moran's I for all models (R_squared, R_squared_adjusted, and AIC)\n",
    "summary_rows = []\n",
    "\n",
    "try:\n",
    "    summary_rows.append({\n",
    "        'Model': 'Baseline OLS',\n",
    "        'R_squared': fit.rsquared,\n",
    "        'R_squared_adj': fit.rsquared_adj,\n",
    "        'AIC': fit.aic,\n",
    "        'Moran I': moran_baseline.I,\n",
    "        'p-value': moran_baseline.p_sim\n",
    "    })\n",
    "except Exception:\n",
    "    pass\n",
    "\n",
    "try:\n",
    "    summary_rows.append({\n",
    "        'Model': 'Coordinates',\n",
    "        'R_squared': fit_coord.rsquared,\n",
    "        'R_squared_adj': fit_coord.rsquared_adj,\n",
    "        'AIC': fit_coord.aic,\n",
    "        'Moran I': moran_coord.I,\n",
    "        'p-value': moran_coord.p_sim\n",
    "    })\n",
    "except Exception:\n",
    "    pass\n",
    "\n",
    "try:\n",
    "    summary_rows.append({\n",
    "        'Model': 'Spatial Lag',\n",
    "        'R_squared': fit_lag.rsquared,\n",
    "        'R_squared_adj': fit_lag.rsquared_adj,\n",
    "        'AIC': fit_lag.aic,\n",
    "        'Moran I': moran_lag.I,\n",
    "        'p-value': moran_lag.p_sim\n",
    "    })\n",
    "except Exception:\n",
    "    pass\n",
    "\n",
    "try:\n",
    "    summary_rows.append({\n",
    "        'Model': 'MESF',\n",
    "        'R_squared': fit_mesf.rsquared,\n",
    "        'R_squared_adj': fit_mesf.rsquared_adj,\n",
    "        'AIC': fit_mesf.aic,\n",
    "        'Moran I': moran_mesf.I,\n",
    "        'p-value': moran_mesf.p_sim\n",
    "    })\n",
    "except Exception:\n",
    "    pass\n",
    "\n",
    "try:\n",
    "    summary_rows.append({\n",
    "        'Model': 'GCN AE',\n",
    "        'R_squared': fit_gcn_ae.rsquared,\n",
    "        'R_squared_adj': fit_gcn_ae.rsquared_adj,\n",
    "        'AIC': fit_gcn_ae.aic,\n",
    "        'Moran I': moran.I,\n",
    "        'p-value': moran.p_sim\n",
    "    })\n",
    "except Exception:\n",
    "    pass\n",
    "\n",
    "summary = pd.DataFrame(summary_rows)\n",
    "print(summary)\n"
   ]
  }
 ],
 "metadata": {
  "kernelspec": {
   "display_name": "Python 3",
   "language": "python",
   "name": "python3"
  },
  "language_info": {
   "codemirror_mode": {
    "name": "ipython",
    "version": 3
   },
   "file_extension": ".py",
   "mimetype": "text/x-python",
   "name": "python",
   "nbconvert_exporter": "python",
   "pygments_lexer": "ipython3",
   "version": "3.13.1"
  }
 },
 "nbformat": 4,
 "nbformat_minor": 4
}
